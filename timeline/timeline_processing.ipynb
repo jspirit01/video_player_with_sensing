{
 "cells": [
  {
   "cell_type": "code",
   "execution_count": 3,
   "metadata": {},
   "outputs": [
    {
     "data": {
      "text/html": [
       "<div>\n",
       "<style scoped>\n",
       "    .dataframe tbody tr th:only-of-type {\n",
       "        vertical-align: middle;\n",
       "    }\n",
       "\n",
       "    .dataframe tbody tr th {\n",
       "        vertical-align: top;\n",
       "    }\n",
       "\n",
       "    .dataframe thead th {\n",
       "        text-align: right;\n",
       "    }\n",
       "</style>\n",
       "<table border=\"1\" class=\"dataframe\">\n",
       "  <thead>\n",
       "    <tr style=\"text-align: right;\">\n",
       "      <th></th>\n",
       "      <th>video1</th>\n",
       "      <th>video2</th>\n",
       "      <th>video3</th>\n",
       "      <th>video4</th>\n",
       "      <th>video5</th>\n",
       "      <th>video6</th>\n",
       "      <th>video7</th>\n",
       "    </tr>\n",
       "  </thead>\n",
       "  <tbody>\n",
       "    <tr>\n",
       "      <th>0</th>\n",
       "      <td>883</td>\n",
       "      <td>639</td>\n",
       "      <td>632</td>\n",
       "      <td>717</td>\n",
       "      <td>591</td>\n",
       "      <td>433</td>\n",
       "      <td>869</td>\n",
       "    </tr>\n",
       "    <tr>\n",
       "      <th>1</th>\n",
       "      <td>2065</td>\n",
       "      <td>1447</td>\n",
       "      <td>1220</td>\n",
       "      <td>1675</td>\n",
       "      <td>968</td>\n",
       "      <td>1131</td>\n",
       "      <td>1735</td>\n",
       "    </tr>\n",
       "    <tr>\n",
       "      <th>2</th>\n",
       "      <td>2342</td>\n",
       "      <td>2128</td>\n",
       "      <td>1522</td>\n",
       "      <td>1919</td>\n",
       "      <td>2088</td>\n",
       "      <td>1822</td>\n",
       "      <td>2175</td>\n",
       "    </tr>\n",
       "    <tr>\n",
       "      <th>3</th>\n",
       "      <td>2616</td>\n",
       "      <td>2770</td>\n",
       "      <td>1759</td>\n",
       "      <td>3021</td>\n",
       "      <td>2528</td>\n",
       "      <td>2710</td>\n",
       "      <td>3049</td>\n",
       "    </tr>\n",
       "    <tr>\n",
       "      <th>4</th>\n",
       "      <td>3116</td>\n",
       "      <td>3389</td>\n",
       "      <td>2616</td>\n",
       "      <td>3272</td>\n",
       "      <td>3114</td>\n",
       "      <td>0</td>\n",
       "      <td>3272</td>\n",
       "    </tr>\n",
       "  </tbody>\n",
       "</table>\n",
       "</div>"
      ],
      "text/plain": [
       "   video1  video2  video3  video4  video5  video6  video7\n",
       "0     883     639     632     717     591     433     869\n",
       "1    2065    1447    1220    1675     968    1131    1735\n",
       "2    2342    2128    1522    1919    2088    1822    2175\n",
       "3    2616    2770    1759    3021    2528    2710    3049\n",
       "4    3116    3389    2616    3272    3114       0    3272"
      ]
     },
     "execution_count": 3,
     "metadata": {},
     "output_type": "execute_result"
    }
   ],
   "source": [
    "import pandas as pd\n",
    "\n",
    "\n",
    "df = pd.read_csv(\"timeline.csv\", encoding='cp949')\n",
    "df"
   ]
  },
  {
   "cell_type": "code",
   "execution_count": 4,
   "metadata": {},
   "outputs": [
    {
     "data": {
      "text/plain": [
       "{'video1': [883, 2065, 2342, 2616, 3116],\n",
       " 'video2': [639, 1447, 2128, 2770, 3389],\n",
       " 'video3': [632, 1220, 1522, 1759, 2616],\n",
       " 'video4': [717, 1675, 1919, 3021, 3272],\n",
       " 'video5': [591, 968, 2088, 2528, 3114],\n",
       " 'video6': [433, 1131, 1822, 2710, 0],\n",
       " 'video7': [869, 1735, 2175, 3049, 3272]}"
      ]
     },
     "execution_count": 4,
     "metadata": {},
     "output_type": "execute_result"
    }
   ],
   "source": [
    "df.to_dict('list')"
   ]
  },
  {
   "cell_type": "code",
   "execution_count": null,
   "metadata": {},
   "outputs": [],
   "source": []
  }
 ],
 "metadata": {
  "kernelspec": {
   "display_name": "pygaze",
   "language": "python",
   "name": "python3"
  },
  "language_info": {
   "codemirror_mode": {
    "name": "ipython",
    "version": 3
   },
   "file_extension": ".py",
   "mimetype": "text/x-python",
   "name": "python",
   "nbconvert_exporter": "python",
   "pygments_lexer": "ipython3",
   "version": "3.8.16"
  },
  "orig_nbformat": 4,
  "vscode": {
   "interpreter": {
    "hash": "b614f319a4cb06fcd723732ec556639be2ff6810ed6c0988ad63ca1894577bcf"
   }
  }
 },
 "nbformat": 4,
 "nbformat_minor": 2
}
