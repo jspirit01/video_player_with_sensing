{
 "cells": [
  {
   "cell_type": "code",
   "execution_count": 1,
   "metadata": {
    "collapsed": true,
    "pycharm": {
     "name": "#%%\n"
    }
   },
   "outputs": [],
   "source": [
    "import os\n",
    "import time\n",
    "\n",
    "import pandas as pd\n",
    "\n",
    "import time\n",
    "from datetime import datetime, timedelta\n",
    "from pytz import timezone"
   ]
  },
  {
   "cell_type": "code",
   "execution_count": 2,
   "outputs": [
    {
     "name": "stdout",
     "output_type": "stream",
     "text": [
      "pygame 2.1.2 (SDL 2.0.18, Python 3.8.5)\n",
      "Hello from the pygame community. https://www.pygame.org/contribute.html\n"
     ]
    }
   ],
   "source": [
    "import random\n",
    "from const import constants\n",
    "\n",
    "from pygaze import libscreen\n",
    "from pygaze import libtime\n",
    "from pygaze import liblog\n",
    "from pygaze import libinput\n",
    "from pygaze import eyetracker\n",
    "\n",
    "disp = libscreen.Display()\n",
    "\n",
    "# create keyboard object\n",
    "keyboard = libinput.Keyboard(keylist=['space'], timeout=None)\n",
    "\n",
    "# create logfile object\n",
    "log = liblog.Logfile()\n",
    "log.write([\"trialnr\", \"trialtype\", \"endpos\", \"latency\", \"correct\"])\n",
    "\n",
    "# create screens\n",
    "inscreen = libscreen.Screen()\n",
    "inscreen.draw_text(text=\"When you see a cross, look at it and press space. Then make an eye movement to the black circle when it appears.\\n\\n(press space to start)\", fontsize=24)\n",
    "fixscreen = libscreen.Screen()\n",
    "fixscreen.draw_fixation(fixtype='cross',pw=3)\n",
    "targetscreens = {}\n",
    "targetscreens['left'] = libscreen.Screen()\n",
    "targetscreens['left'].draw_circle(pos=(int(constants.DISPSIZE[0]*0.25),constants.DISPSIZE[1]/2), fill=True)\n",
    "targetscreens['right'] = libscreen.Screen()\n",
    "targetscreens['right'].draw_circle(pos=(int(constants.DISPSIZE[0]*0.75),constants.DISPSIZE[1]/2), fill=True)\n",
    "feedbackscreens = {}\n",
    "feedbackscreens[1] = libscreen.Screen()\n",
    "feedbackscreens[1].draw_text(text='correct', colour=(0,255,0), fontsize=24)\n",
    "feedbackscreens[0] = libscreen.Screen()\n",
    "feedbackscreens[0].draw_text(text='incorrect', colour=(255,0,0), fontsize=24)"
   ],
   "metadata": {
    "collapsed": false,
    "pycharm": {
     "name": "#%%\n"
    }
   }
  },
  {
   "cell_type": "code",
   "execution_count": 22,
   "outputs": [
    {
     "name": "stdout",
     "output_type": "stream",
     "text": [
      "2022-09-14 16:01:00.357899\n"
     ]
    }
   ],
   "source": [
    "import time\n",
    "from datetime import datetime, timedelta\n",
    "from pytz import timezone\n",
    "\n",
    "# time.strftime('%Y-%m-%d %H:%M:%S', time.localtime(1663073386.27363))\n",
    "# datetime.strptime(str(1663073386.27363), '%Y-%m-%d %H:%M:%S.%f')\n",
    "# datetime.utcfromtimestamp(1663073386.27363)\n",
    "\n",
    "# print(datetime.utcfromtimestamp(1663073386.27363))\n",
    "# print(datetime.utcfromtimestamp(datetime.utcnow()) + timedelta(hours=9))\n",
    "print(datetime.utcnow() + timedelta(hours=9))"
   ],
   "metadata": {
    "collapsed": false,
    "pycharm": {
     "name": "#%%\n"
    }
   }
  },
  {
   "cell_type": "code",
   "execution_count": 4,
   "outputs": [
    {
     "name": "stdout",
     "output_type": "stream",
     "text": [
      "2022-09-14 19:55:24.947653 2022-09-14 19:55:29.957544\n"
     ]
    }
   ],
   "source": [
    "start_time = datetime.utcnow() + timedelta(hours=9)\n",
    "time.sleep(5)\n",
    "\n",
    "end_time = datetime.utcnow() + timedelta(hours=9)\n",
    "\n",
    "print(start_time, end_time)"
   ],
   "metadata": {
    "collapsed": false,
    "pycharm": {
     "name": "#%%\n"
    }
   }
  },
  {
   "cell_type": "code",
   "execution_count": 23,
   "outputs": [
    {
     "data": {
      "text/plain": "                          time\n0   2022-09-14 19:55:24.947653\n1   2022-09-14 19:55:24.980986\n2   2022-09-14 19:55:25.014319\n3   2022-09-14 19:55:25.047652\n4   2022-09-14 19:55:25.080985\n..                         ...\n146 2022-09-14 19:55:29.814271\n147 2022-09-14 19:55:29.847604\n148 2022-09-14 19:55:29.880937\n149 2022-09-14 19:55:29.914270\n150 2022-09-14 19:55:29.947603\n\n[151 rows x 1 columns]",
      "text/html": "<div>\n<style scoped>\n    .dataframe tbody tr th:only-of-type {\n        vertical-align: middle;\n    }\n\n    .dataframe tbody tr th {\n        vertical-align: top;\n    }\n\n    .dataframe thead th {\n        text-align: right;\n    }\n</style>\n<table border=\"1\" class=\"dataframe\">\n  <thead>\n    <tr style=\"text-align: right;\">\n      <th></th>\n      <th>time</th>\n    </tr>\n  </thead>\n  <tbody>\n    <tr>\n      <th>0</th>\n      <td>2022-09-14 19:55:24.947653</td>\n    </tr>\n    <tr>\n      <th>1</th>\n      <td>2022-09-14 19:55:24.980986</td>\n    </tr>\n    <tr>\n      <th>2</th>\n      <td>2022-09-14 19:55:25.014319</td>\n    </tr>\n    <tr>\n      <th>3</th>\n      <td>2022-09-14 19:55:25.047652</td>\n    </tr>\n    <tr>\n      <th>4</th>\n      <td>2022-09-14 19:55:25.080985</td>\n    </tr>\n    <tr>\n      <th>...</th>\n      <td>...</td>\n    </tr>\n    <tr>\n      <th>146</th>\n      <td>2022-09-14 19:55:29.814271</td>\n    </tr>\n    <tr>\n      <th>147</th>\n      <td>2022-09-14 19:55:29.847604</td>\n    </tr>\n    <tr>\n      <th>148</th>\n      <td>2022-09-14 19:55:29.880937</td>\n    </tr>\n    <tr>\n      <th>149</th>\n      <td>2022-09-14 19:55:29.914270</td>\n    </tr>\n    <tr>\n      <th>150</th>\n      <td>2022-09-14 19:55:29.947603</td>\n    </tr>\n  </tbody>\n</table>\n<p>151 rows × 1 columns</p>\n</div>"
     },
     "execution_count": 23,
     "metadata": {},
     "output_type": "execute_result"
    }
   ],
   "source": [
    "df = pd.DataFrame()\n",
    "df['time'] = pd.date_range(start=start_time, end=end_time, freq='0.033333S')\n",
    "df"
   ],
   "metadata": {
    "collapsed": false,
    "pycharm": {
     "name": "#%%\n"
    }
   }
  },
  {
   "cell_type": "code",
   "execution_count": 54,
   "outputs": [
    {
     "data": {
      "text/plain": "                           time   timestamp  ATTACK  SPEED  STRAFE  \\\n0    2022-07-22 11:13:40.122269    0.012965     0.0    0.0     0.0   \n1    2022-07-22 11:13:40.137744    0.028440     0.0    0.0     0.0   \n2    2022-07-22 11:13:40.153701    0.044397     0.0    0.0     0.0   \n3    2022-07-22 11:13:40.184114    0.074811     0.0    0.0     0.0   \n4    2022-07-22 11:13:40.213742    0.104438     0.0    0.0     0.0   \n...                         ...         ...     ...    ...     ...   \n4195 2022-07-22 11:15:37.561284  117.451981     1.0    1.0     0.0   \n4196 2022-07-22 11:15:37.591633  117.482330     1.0    1.0     0.0   \n4197 2022-07-22 11:15:37.621669  117.512366     0.0    1.0     0.0   \n4198 2022-07-22 11:15:37.637066  117.527762     0.0    1.0     0.0   \n4199 2022-07-22 11:15:37.666942  117.557638     0.0    1.0     0.0   \n\n      MOVE_RIGHT  MOVE_LEFT  MOVE_BACKWARD  MOVE_FORWARD  TURN_RIGHT  ...  \\\n0            0.0        0.0            0.0           0.0         0.0  ...   \n1            0.0        0.0            0.0           0.0         0.0  ...   \n2            0.0        0.0            0.0           0.0         0.0  ...   \n3            0.0        0.0            0.0           0.0         0.0  ...   \n4            0.0        0.0            0.0           0.0         0.0  ...   \n...          ...        ...            ...           ...         ...  ...   \n4195         0.0        0.0            0.0           1.0         0.0  ...   \n4196         0.0        0.0            0.0           1.0         0.0  ...   \n4197         0.0        0.0            0.0           1.0         0.0  ...   \n4198         0.0        0.0            0.0           1.0         0.0  ...   \n4199         0.0        0.0            0.0           1.0         0.0  ...   \n\n      SELECT_NEXT_WEAPON  SELECT_PREV_WEAPON  LOOK_UP_DOWN_DELTA  \\\n0                    0.0                 0.0            0.000000   \n1                    0.0                 0.0            0.000000   \n2                    0.0                 0.0            0.000000   \n3                    0.0                 0.0            0.000000   \n4                    0.0                 0.0            0.000000   \n...                  ...                 ...                 ...   \n4195                 0.0                 0.0            0.000000   \n4196                 0.0                 0.0            0.000000   \n4197                 0.0                 0.0            0.087891   \n4198                 0.0                 0.0            0.175781   \n4199                 0.0                 0.0            0.000000   \n\n      TURN_LEFT_RIGHT_DELTA  MOVE_LEFT_RIGHT_DELTA  KILLCOUNT  HEALTH  ARMOR  \\\n0                  0.000000                    0.0        0.0   100.0    0.0   \n1                  0.000000                    0.0        0.0   100.0    0.0   \n2                  0.000000                    0.0        0.0   100.0    0.0   \n3                  0.000000                    0.0        0.0   100.0    0.0   \n4                  0.000000                    0.0        0.0   100.0    0.0   \n...                     ...                    ...        ...     ...    ...   \n4195               4.394531                    0.0       41.0   100.0   90.0   \n4196               2.460938                    0.0       41.0   100.0   90.0   \n4197               0.175781                    0.0       41.0   100.0   90.0   \n4198              -0.878906                    0.0       41.0   100.0   90.0   \n4199              -1.933594                    0.0       41.0   100.0   90.0   \n\n      SELECTED_WEAPON  SELECTED_WEAPON_AMMO  \n0                 2.0                  50.0  \n1                 2.0                  50.0  \n2                 2.0                  50.0  \n3                 2.0                  50.0  \n4                 2.0                  50.0  \n...               ...                   ...  \n4195              4.0                 167.0  \n4196              4.0                 167.0  \n4197              4.0                 167.0  \n4198              4.0                 166.0  \n4199              4.0                 166.0  \n\n[4200 rows x 28 columns]",
      "text/html": "<div>\n<style scoped>\n    .dataframe tbody tr th:only-of-type {\n        vertical-align: middle;\n    }\n\n    .dataframe tbody tr th {\n        vertical-align: top;\n    }\n\n    .dataframe thead th {\n        text-align: right;\n    }\n</style>\n<table border=\"1\" class=\"dataframe\">\n  <thead>\n    <tr style=\"text-align: right;\">\n      <th></th>\n      <th>time</th>\n      <th>timestamp</th>\n      <th>ATTACK</th>\n      <th>SPEED</th>\n      <th>STRAFE</th>\n      <th>MOVE_RIGHT</th>\n      <th>MOVE_LEFT</th>\n      <th>MOVE_BACKWARD</th>\n      <th>MOVE_FORWARD</th>\n      <th>TURN_RIGHT</th>\n      <th>...</th>\n      <th>SELECT_NEXT_WEAPON</th>\n      <th>SELECT_PREV_WEAPON</th>\n      <th>LOOK_UP_DOWN_DELTA</th>\n      <th>TURN_LEFT_RIGHT_DELTA</th>\n      <th>MOVE_LEFT_RIGHT_DELTA</th>\n      <th>KILLCOUNT</th>\n      <th>HEALTH</th>\n      <th>ARMOR</th>\n      <th>SELECTED_WEAPON</th>\n      <th>SELECTED_WEAPON_AMMO</th>\n    </tr>\n  </thead>\n  <tbody>\n    <tr>\n      <th>0</th>\n      <td>2022-07-22 11:13:40.122269</td>\n      <td>0.012965</td>\n      <td>0.0</td>\n      <td>0.0</td>\n      <td>0.0</td>\n      <td>0.0</td>\n      <td>0.0</td>\n      <td>0.0</td>\n      <td>0.0</td>\n      <td>0.0</td>\n      <td>...</td>\n      <td>0.0</td>\n      <td>0.0</td>\n      <td>0.000000</td>\n      <td>0.000000</td>\n      <td>0.0</td>\n      <td>0.0</td>\n      <td>100.0</td>\n      <td>0.0</td>\n      <td>2.0</td>\n      <td>50.0</td>\n    </tr>\n    <tr>\n      <th>1</th>\n      <td>2022-07-22 11:13:40.137744</td>\n      <td>0.028440</td>\n      <td>0.0</td>\n      <td>0.0</td>\n      <td>0.0</td>\n      <td>0.0</td>\n      <td>0.0</td>\n      <td>0.0</td>\n      <td>0.0</td>\n      <td>0.0</td>\n      <td>...</td>\n      <td>0.0</td>\n      <td>0.0</td>\n      <td>0.000000</td>\n      <td>0.000000</td>\n      <td>0.0</td>\n      <td>0.0</td>\n      <td>100.0</td>\n      <td>0.0</td>\n      <td>2.0</td>\n      <td>50.0</td>\n    </tr>\n    <tr>\n      <th>2</th>\n      <td>2022-07-22 11:13:40.153701</td>\n      <td>0.044397</td>\n      <td>0.0</td>\n      <td>0.0</td>\n      <td>0.0</td>\n      <td>0.0</td>\n      <td>0.0</td>\n      <td>0.0</td>\n      <td>0.0</td>\n      <td>0.0</td>\n      <td>...</td>\n      <td>0.0</td>\n      <td>0.0</td>\n      <td>0.000000</td>\n      <td>0.000000</td>\n      <td>0.0</td>\n      <td>0.0</td>\n      <td>100.0</td>\n      <td>0.0</td>\n      <td>2.0</td>\n      <td>50.0</td>\n    </tr>\n    <tr>\n      <th>3</th>\n      <td>2022-07-22 11:13:40.184114</td>\n      <td>0.074811</td>\n      <td>0.0</td>\n      <td>0.0</td>\n      <td>0.0</td>\n      <td>0.0</td>\n      <td>0.0</td>\n      <td>0.0</td>\n      <td>0.0</td>\n      <td>0.0</td>\n      <td>...</td>\n      <td>0.0</td>\n      <td>0.0</td>\n      <td>0.000000</td>\n      <td>0.000000</td>\n      <td>0.0</td>\n      <td>0.0</td>\n      <td>100.0</td>\n      <td>0.0</td>\n      <td>2.0</td>\n      <td>50.0</td>\n    </tr>\n    <tr>\n      <th>4</th>\n      <td>2022-07-22 11:13:40.213742</td>\n      <td>0.104438</td>\n      <td>0.0</td>\n      <td>0.0</td>\n      <td>0.0</td>\n      <td>0.0</td>\n      <td>0.0</td>\n      <td>0.0</td>\n      <td>0.0</td>\n      <td>0.0</td>\n      <td>...</td>\n      <td>0.0</td>\n      <td>0.0</td>\n      <td>0.000000</td>\n      <td>0.000000</td>\n      <td>0.0</td>\n      <td>0.0</td>\n      <td>100.0</td>\n      <td>0.0</td>\n      <td>2.0</td>\n      <td>50.0</td>\n    </tr>\n    <tr>\n      <th>...</th>\n      <td>...</td>\n      <td>...</td>\n      <td>...</td>\n      <td>...</td>\n      <td>...</td>\n      <td>...</td>\n      <td>...</td>\n      <td>...</td>\n      <td>...</td>\n      <td>...</td>\n      <td>...</td>\n      <td>...</td>\n      <td>...</td>\n      <td>...</td>\n      <td>...</td>\n      <td>...</td>\n      <td>...</td>\n      <td>...</td>\n      <td>...</td>\n      <td>...</td>\n      <td>...</td>\n    </tr>\n    <tr>\n      <th>4195</th>\n      <td>2022-07-22 11:15:37.561284</td>\n      <td>117.451981</td>\n      <td>1.0</td>\n      <td>1.0</td>\n      <td>0.0</td>\n      <td>0.0</td>\n      <td>0.0</td>\n      <td>0.0</td>\n      <td>1.0</td>\n      <td>0.0</td>\n      <td>...</td>\n      <td>0.0</td>\n      <td>0.0</td>\n      <td>0.000000</td>\n      <td>4.394531</td>\n      <td>0.0</td>\n      <td>41.0</td>\n      <td>100.0</td>\n      <td>90.0</td>\n      <td>4.0</td>\n      <td>167.0</td>\n    </tr>\n    <tr>\n      <th>4196</th>\n      <td>2022-07-22 11:15:37.591633</td>\n      <td>117.482330</td>\n      <td>1.0</td>\n      <td>1.0</td>\n      <td>0.0</td>\n      <td>0.0</td>\n      <td>0.0</td>\n      <td>0.0</td>\n      <td>1.0</td>\n      <td>0.0</td>\n      <td>...</td>\n      <td>0.0</td>\n      <td>0.0</td>\n      <td>0.000000</td>\n      <td>2.460938</td>\n      <td>0.0</td>\n      <td>41.0</td>\n      <td>100.0</td>\n      <td>90.0</td>\n      <td>4.0</td>\n      <td>167.0</td>\n    </tr>\n    <tr>\n      <th>4197</th>\n      <td>2022-07-22 11:15:37.621669</td>\n      <td>117.512366</td>\n      <td>0.0</td>\n      <td>1.0</td>\n      <td>0.0</td>\n      <td>0.0</td>\n      <td>0.0</td>\n      <td>0.0</td>\n      <td>1.0</td>\n      <td>0.0</td>\n      <td>...</td>\n      <td>0.0</td>\n      <td>0.0</td>\n      <td>0.087891</td>\n      <td>0.175781</td>\n      <td>0.0</td>\n      <td>41.0</td>\n      <td>100.0</td>\n      <td>90.0</td>\n      <td>4.0</td>\n      <td>167.0</td>\n    </tr>\n    <tr>\n      <th>4198</th>\n      <td>2022-07-22 11:15:37.637066</td>\n      <td>117.527762</td>\n      <td>0.0</td>\n      <td>1.0</td>\n      <td>0.0</td>\n      <td>0.0</td>\n      <td>0.0</td>\n      <td>0.0</td>\n      <td>1.0</td>\n      <td>0.0</td>\n      <td>...</td>\n      <td>0.0</td>\n      <td>0.0</td>\n      <td>0.175781</td>\n      <td>-0.878906</td>\n      <td>0.0</td>\n      <td>41.0</td>\n      <td>100.0</td>\n      <td>90.0</td>\n      <td>4.0</td>\n      <td>166.0</td>\n    </tr>\n    <tr>\n      <th>4199</th>\n      <td>2022-07-22 11:15:37.666942</td>\n      <td>117.557638</td>\n      <td>0.0</td>\n      <td>1.0</td>\n      <td>0.0</td>\n      <td>0.0</td>\n      <td>0.0</td>\n      <td>0.0</td>\n      <td>1.0</td>\n      <td>0.0</td>\n      <td>...</td>\n      <td>0.0</td>\n      <td>0.0</td>\n      <td>0.000000</td>\n      <td>-1.933594</td>\n      <td>0.0</td>\n      <td>41.0</td>\n      <td>100.0</td>\n      <td>90.0</td>\n      <td>4.0</td>\n      <td>166.0</td>\n    </tr>\n  </tbody>\n</table>\n<p>4200 rows × 28 columns</p>\n</div>"
     },
     "execution_count": 54,
     "metadata": {},
     "output_type": "execute_result"
    }
   ],
   "source": [
    "import pandas as pd\n",
    "\n",
    "game = pd.read_csv('./data/1658456020.1093035_juchanseo_res.csv')\n",
    "game['time'] = game['time'].apply(lambda x: datetime.utcfromtimestamp(x) + timedelta(hours=9))\n",
    "game"
   ],
   "metadata": {
    "collapsed": false,
    "pycharm": {
     "name": "#%%\n"
    }
   }
  },
  {
   "cell_type": "code",
   "execution_count": 78,
   "outputs": [
    {
     "name": "stdout",
     "output_type": "stream",
     "text": [
      "period: 100\n",
      "-86.0\n",
      "1271 1371\n",
      "2022-07-22 11:14:15.680399 2022-07-22 11:14:18.488437\n",
      "\n",
      "period: 200\n",
      "-86.0\n",
      "1159 1359\n",
      "2022-07-22 11:14:12.557232 2022-07-22 11:14:18.144504\n",
      "\n",
      "period: 300\n",
      "-86.0\n",
      "1059 1359\n",
      "2022-07-22 11:14:09.751377 2022-07-22 11:14:18.144504\n",
      "\n",
      "period: 400\n",
      "-87.0\n",
      "959 1359\n",
      "2022-07-22 11:14:06.942881 2022-07-22 11:14:18.144504\n",
      "\n",
      "period: 500\n",
      "-87.0\n",
      "859 1359\n",
      "2022-07-22 11:14:04.150973 2022-07-22 11:14:18.144504\n",
      "\n",
      "period: 600\n",
      "-86.0\n",
      "759 1359\n",
      "2022-07-22 11:14:01.342938 2022-07-22 11:14:18.144504\n",
      "\n",
      "period: 700\n",
      "-86.0\n",
      "659 1359\n",
      "2022-07-22 11:13:58.557345 2022-07-22 11:14:18.144504\n",
      "\n",
      "period: 800\n",
      "-59.0\n",
      "2640 3440\n",
      "2022-07-22 11:14:54.020001 2022-07-22 11:15:16.422333\n",
      "\n",
      "period: 900\n",
      "-59.0\n",
      "957 1857\n",
      "2022-07-22 11:14:06.897417 2022-07-22 11:14:32.099954\n",
      "\n",
      "period: 1000\n",
      "-86.0\n",
      "359 1359\n",
      "2022-07-22 11:13:50.151250 2022-07-22 11:14:18.144504\n",
      "\n"
     ]
    }
   ],
   "source": [
    "periods = [100, 200, 300, 400, 500, 600, 700, 800, 900, 1000]\n",
    "\n",
    "for period in periods:\n",
    "    print(\"period: {}\".format(period))\n",
    "    print(game['HEALTH'].diff(periods=period).min())\n",
    "    idx = game['HEALTH'].diff(periods=period).idxmin()\n",
    "    print(idx - period, idx)\n",
    "\n",
    "    print(game.iloc[idx - period,:]['time'], game.iloc[idx,:]['time'] )\n",
    "    print('')"
   ],
   "metadata": {
    "collapsed": false,
    "pycharm": {
     "name": "#%%\n"
    }
   }
  },
  {
   "cell_type": "code",
   "execution_count": 85,
   "outputs": [],
   "source": [
    "def check_event(game_dataframe, period=100):\n",
    "    dataframe = game_dataframe.diff(periods=period)\n",
    "\n",
    "    K_idx = dataframe['KILLCOUNT'].idxmax()\n",
    "    H_idx = dataframe['HEALTH'].idxmin()\n",
    "\n",
    "    K_start, K_end = game_dataframe.iloc[K_idx - period,:]['time'], game_dataframe.iloc[K_idx,:]['time']\n",
    "    H_start, H_end = game_dataframe.iloc[H_idx - period,:]['time'], game_dataframe.iloc[H_idx,:]['time']\n",
    "\n",
    "    df = pd.DataFrame()\n",
    "\n",
    "    df['Event'] = ['KILLCOUNT', 'HEALTH']\n",
    "    df['Start'] = [K_start, H_start]\n",
    "    df['End'] = [H_start, H_end]\n",
    "\n",
    "    return df"
   ],
   "metadata": {
    "collapsed": false,
    "pycharm": {
     "name": "#%%\n"
    }
   }
  },
  {
   "cell_type": "code",
   "execution_count": 87,
   "outputs": [],
   "source": [
    "df = check_event(game)\n",
    "df.to_csv('./test_check_event.csv', index=False)"
   ],
   "metadata": {
    "collapsed": false,
    "pycharm": {
     "name": "#%%\n"
    }
   }
  },
  {
   "cell_type": "code",
   "execution_count": 4,
   "outputs": [
    {
     "name": "stdout",
     "output_type": "stream",
     "text": [
      "Connected to E4 Streaming Server...\n",
      "Listing E4 devices...\n",
      "Connected to b'CD36CD' device...\n",
      "Subscribed to all streams, starting streaming...\n",
      "E4 is not on wrist, please put it on!\n",
      "E4 Errors\n",
      "\t EmpaticaServerConnectError : []\n",
      "\t EmpaticaCommandError : []\n",
      "\t EmpaticaDataError : []\n",
      "\t Other : []\n",
      "E4 connection closed, saving readings...\n",
      "Readings saved to readings.txt...\n",
      "Cleaning up connections...\n"
     ]
    }
   ],
   "source": [
    "from pyempatica import EmpaticaClient, EmpaticaE4, EmpaticaDataStreams, EmpaticaServerConnectError\n",
    "import time\n",
    "\n",
    "try:\n",
    "    client = EmpaticaClient()\n",
    "    print(\"Connected to E4 Streaming Server...\")\n",
    "    client.list_connected_devices()\n",
    "    print(\"Listing E4 devices...\")\n",
    "    time.sleep(1)\n",
    "    if len(client.device_list) != 0:\n",
    "        e4 = EmpaticaE4(client.device_list[0])\n",
    "        if e4.connected:\n",
    "            print(\"Connected to\", str(client.device_list[0]), \"device...\")\n",
    "            for stream in EmpaticaDataStreams.ALL_STREAMS:\n",
    "                e4.subscribe_to_stream(stream)\n",
    "            print(\"Subscribed to all streams, starting streaming...\")\n",
    "            e4.start_streaming()\n",
    "            for i in range(0, 10):\n",
    "                time.sleep(1)\n",
    "                if not e4.on_wrist:\n",
    "                    print(\"E4 is not on wrist, please put it on!\")\n",
    "                if e4.client.last_error:\n",
    "                    print(\"Error encountered:\", e4.client.last_error)\n",
    "                    break\n",
    "            e4.suspend_streaming()\n",
    "            e4.disconnect()\n",
    "            e4.close()\n",
    "            print(\"E4 Errors\")\n",
    "            for key in e4.client.errors:\n",
    "                print(\"\\t\", key, \":\", e4.client.errors[key])\n",
    "            print(\"E4 connection closed, saving readings...\")\n",
    "            e4.save_readings(\"readings.txt\")\n",
    "            print(\"Readings saved to readings.txt...\")\n",
    "        else:\n",
    "            print(\"Could not connect to Empatica E4:\", client.device_list[0])\n",
    "    client.close()\n",
    "    print(\"Cleaning up connections...\")\n",
    "\n",
    "except EmpaticaServerConnectError:\n",
    "    print(\"Failed to connect to server, check that the E4 Streaming Server is open and connected to the BLE dongle.\")"
   ],
   "metadata": {
    "collapsed": false,
    "pycharm": {
     "name": "#%%\n"
    }
   }
  },
  {
   "cell_type": "code",
   "execution_count": null,
   "outputs": [],
   "source": [],
   "metadata": {
    "collapsed": false,
    "pycharm": {
     "name": "#%%\n"
    }
   }
  }
 ],
 "metadata": {
  "kernelspec": {
   "display_name": "Python 3",
   "language": "python",
   "name": "python3"
  },
  "language_info": {
   "codemirror_mode": {
    "name": "ipython",
    "version": 2
   },
   "file_extension": ".py",
   "mimetype": "text/x-python",
   "name": "python",
   "nbconvert_exporter": "python",
   "pygments_lexer": "ipython2",
   "version": "2.7.6"
  }
 },
 "nbformat": 4,
 "nbformat_minor": 0
}